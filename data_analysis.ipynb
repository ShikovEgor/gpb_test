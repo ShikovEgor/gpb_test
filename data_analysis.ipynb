{
 "cells": [
  {
   "cell_type": "code",
   "execution_count": 1,
   "metadata": {},
   "outputs": [],
   "source": [
    "import pandas as pd"
   ]
  },
  {
   "cell_type": "code",
   "execution_count": 2,
   "metadata": {},
   "outputs": [
    {
     "data": {
      "text/html": [
       "<div>\n",
       "<style scoped>\n",
       "    .dataframe tbody tr th:only-of-type {\n",
       "        vertical-align: middle;\n",
       "    }\n",
       "\n",
       "    .dataframe tbody tr th {\n",
       "        vertical-align: top;\n",
       "    }\n",
       "\n",
       "    .dataframe thead th {\n",
       "        text-align: right;\n",
       "    }\n",
       "</style>\n",
       "<table border=\"1\" class=\"dataframe\">\n",
       "  <thead>\n",
       "    <tr style=\"text-align: right;\">\n",
       "      <th></th>\n",
       "      <th>product_name</th>\n",
       "      <th>period</th>\n",
       "      <th>price</th>\n",
       "      <th>postcode</th>\n",
       "      <th>address_name</th>\n",
       "      <th>lat</th>\n",
       "      <th>lon</th>\n",
       "      <th>object_type</th>\n",
       "      <th>total_square</th>\n",
       "      <th>rooms</th>\n",
       "      <th>floor</th>\n",
       "      <th>city</th>\n",
       "      <th>settlement</th>\n",
       "      <th>district</th>\n",
       "      <th>area</th>\n",
       "      <th>description</th>\n",
       "      <th>source</th>\n",
       "      <th>m2_price</th>\n",
       "    </tr>\n",
       "  </thead>\n",
       "  <tbody>\n",
       "    <tr>\n",
       "      <th>0</th>\n",
       "      <td>3-комнатная, 137 м²</td>\n",
       "      <td>NaN</td>\n",
       "      <td>63000000</td>\n",
       "      <td>127473.0</td>\n",
       "      <td>2-й Щемиловский переулок, 5а</td>\n",
       "      <td>55.778894</td>\n",
       "      <td>37.608844</td>\n",
       "      <td>Квартира</td>\n",
       "      <td>137.0</td>\n",
       "      <td>3.0</td>\n",
       "      <td>6.0</td>\n",
       "      <td>Москва</td>\n",
       "      <td>NaN</td>\n",
       "      <td>Тверской район</td>\n",
       "      <td>NaN</td>\n",
       "      <td>Просторная квартира свободной планировки с пан...</td>\n",
       "      <td>ЦИАН</td>\n",
       "      <td>459854.014599</td>\n",
       "    </tr>\n",
       "    <tr>\n",
       "      <th>1</th>\n",
       "      <td>Студия, 16,7 м²</td>\n",
       "      <td>NaN</td>\n",
       "      <td>3250000</td>\n",
       "      <td>108815.0</td>\n",
       "      <td>Харлампиева, 46</td>\n",
       "      <td>55.551025</td>\n",
       "      <td>37.313054</td>\n",
       "      <td>Квартира</td>\n",
       "      <td>16.7</td>\n",
       "      <td>NaN</td>\n",
       "      <td>1.0</td>\n",
       "      <td>Москва</td>\n",
       "      <td>NaN</td>\n",
       "      <td>Филимонковское поселение</td>\n",
       "      <td>NaN</td>\n",
       "      <td>ВНИМАНИЕ! ОЧЕНЬ ПРИВЛЕКАТЕЛЬНОЕ ПРЕ...</td>\n",
       "      <td>Домклик</td>\n",
       "      <td>194610.778443</td>\n",
       "    </tr>\n",
       "    <tr>\n",
       "      <th>2</th>\n",
       "      <td>3-комнатная, 76 м²</td>\n",
       "      <td>NaN</td>\n",
       "      <td>16004680</td>\n",
       "      <td>NaN</td>\n",
       "      <td>ЖК Прокшино, 8 к4</td>\n",
       "      <td>55.594802</td>\n",
       "      <td>37.431264</td>\n",
       "      <td>Квартира</td>\n",
       "      <td>76.0</td>\n",
       "      <td>3.0</td>\n",
       "      <td>6.0</td>\n",
       "      <td>Москва</td>\n",
       "      <td>NaN</td>\n",
       "      <td>Сосенское поселение</td>\n",
       "      <td>NaN</td>\n",
       "      <td>Apт.1684018. 0,01% - гибкая ипотека! Воспользу...</td>\n",
       "      <td>Яндекс.Недвижимость</td>\n",
       "      <td>210587.894737</td>\n",
       "    </tr>\n",
       "    <tr>\n",
       "      <th>3</th>\n",
       "      <td>1-комнатная, 24 м²</td>\n",
       "      <td>NaN</td>\n",
       "      <td>7841776</td>\n",
       "      <td>NaN</td>\n",
       "      <td>ЖК Прокшино, 6 к2</td>\n",
       "      <td>55.594332</td>\n",
       "      <td>37.428099</td>\n",
       "      <td>Квартира</td>\n",
       "      <td>24.0</td>\n",
       "      <td>1.0</td>\n",
       "      <td>10.0</td>\n",
       "      <td>Москва</td>\n",
       "      <td>NaN</td>\n",
       "      <td>Сосенское поселение</td>\n",
       "      <td>NaN</td>\n",
       "      <td>Продается однокомнатная квартира № 381 в новос...</td>\n",
       "      <td>Новострой-М</td>\n",
       "      <td>326740.666667</td>\n",
       "    </tr>\n",
       "    <tr>\n",
       "      <th>4</th>\n",
       "      <td>3-комнатная, 126 м²</td>\n",
       "      <td>NaN</td>\n",
       "      <td>120000000</td>\n",
       "      <td>121352.0</td>\n",
       "      <td>Давыдковская, 18</td>\n",
       "      <td>55.721097</td>\n",
       "      <td>37.464342</td>\n",
       "      <td>Квартира</td>\n",
       "      <td>126.0</td>\n",
       "      <td>3.0</td>\n",
       "      <td>16.0</td>\n",
       "      <td>Москва</td>\n",
       "      <td>NaN</td>\n",
       "      <td>Фили-Давыдково район</td>\n",
       "      <td>NaN</td>\n",
       "      <td>Шикарное предложение!\\nПродаётся трёхкомнатная...</td>\n",
       "      <td>Домклик</td>\n",
       "      <td>952380.952381</td>\n",
       "    </tr>\n",
       "  </tbody>\n",
       "</table>\n",
       "</div>"
      ],
      "text/plain": [
       "          product_name  period      price  postcode  \\\n",
       "0  3-комнатная, 137 м²     NaN   63000000  127473.0   \n",
       "1      Студия, 16,7 м²     NaN    3250000  108815.0   \n",
       "2   3-комнатная, 76 м²     NaN   16004680       NaN   \n",
       "3   1-комнатная, 24 м²     NaN    7841776       NaN   \n",
       "4  3-комнатная, 126 м²     NaN  120000000  121352.0   \n",
       "\n",
       "                   address_name        lat        lon object_type  \\\n",
       "0  2-й Щемиловский переулок, 5а  55.778894  37.608844    Квартира   \n",
       "1               Харлампиева, 46  55.551025  37.313054    Квартира   \n",
       "2             ЖК Прокшино, 8 к4  55.594802  37.431264    Квартира   \n",
       "3             ЖК Прокшино, 6 к2  55.594332  37.428099    Квартира   \n",
       "4              Давыдковская, 18  55.721097  37.464342    Квартира   \n",
       "\n",
       "   total_square  rooms  floor    city settlement                  district  \\\n",
       "0         137.0    3.0    6.0  Москва        NaN            Тверской район   \n",
       "1          16.7    NaN    1.0  Москва        NaN  Филимонковское поселение   \n",
       "2          76.0    3.0    6.0  Москва        NaN       Сосенское поселение   \n",
       "3          24.0    1.0   10.0  Москва        NaN       Сосенское поселение   \n",
       "4         126.0    3.0   16.0  Москва        NaN      Фили-Давыдково район   \n",
       "\n",
       "  area                                        description  \\\n",
       "0  NaN  Просторная квартира свободной планировки с пан...   \n",
       "1  NaN             ВНИМАНИЕ! ОЧЕНЬ ПРИВЛЕКАТЕЛЬНОЕ ПРЕ...   \n",
       "2  NaN  Apт.1684018. 0,01% - гибкая ипотека! Воспользу...   \n",
       "3  NaN  Продается однокомнатная квартира № 381 в новос...   \n",
       "4  NaN  Шикарное предложение!\\nПродаётся трёхкомнатная...   \n",
       "\n",
       "                source       m2_price  \n",
       "0                 ЦИАН  459854.014599  \n",
       "1              Домклик  194610.778443  \n",
       "2  Яндекс.Недвижимость  210587.894737  \n",
       "3          Новострой-М  326740.666667  \n",
       "4              Домклик  952380.952381  "
      ]
     },
     "execution_count": 2,
     "metadata": {},
     "output_type": "execute_result"
    }
   ],
   "source": [
    "df = pd.read_csv('data/realty_data.csv')\n",
    "df['m2_price'] = df.price/df.total_square\n",
    "df.head(5)"
   ]
  },
  {
   "cell_type": "code",
   "execution_count": 7,
   "metadata": {},
   "outputs": [
    {
     "data": {
      "text/plain": [
       "product_name    False\n",
       "period           True\n",
       "price           False\n",
       "postcode         True\n",
       "address_name     True\n",
       "lat             False\n",
       "lon             False\n",
       "object_type     False\n",
       "total_square    False\n",
       "rooms            True\n",
       "floor           False\n",
       "city             True\n",
       "settlement       True\n",
       "district         True\n",
       "area             True\n",
       "description      True\n",
       "source          False\n",
       "m2_price        False\n",
       "dtype: bool"
      ]
     },
     "execution_count": 7,
     "metadata": {},
     "output_type": "execute_result"
    }
   ],
   "source": [
    "df.isna().any(axis=0)"
   ]
  },
  {
   "cell_type": "code",
   "execution_count": 9,
   "metadata": {},
   "outputs": [
    {
     "data": {
      "text/plain": [
       "product_name    False\n",
       "period           True\n",
       "price           False\n",
       "postcode        False\n",
       "address_name    False\n",
       "lat             False\n",
       "lon             False\n",
       "object_type     False\n",
       "total_square    False\n",
       "rooms           False\n",
       "floor           False\n",
       "city            False\n",
       "settlement      False\n",
       "district        False\n",
       "area            False\n",
       "description     False\n",
       "source          False\n",
       "m2_price        False\n",
       "dtype: bool"
      ]
     },
     "execution_count": 9,
     "metadata": {},
     "output_type": "execute_result"
    }
   ],
   "source": [
    "df.isna().all(axis=0)"
   ]
  },
  {
   "cell_type": "code",
   "execution_count": null,
   "metadata": {},
   "outputs": [
    {
     "data": {
      "text/plain": [
       "False"
      ]
     },
     "execution_count": 16,
     "metadata": {},
     "output_type": "execute_result"
    }
   ],
   "source": [
    "# В городе колонка settlement null\n",
    "df[df.city.isna()].settlement.isna().any()"
   ]
  },
  {
   "cell_type": "code",
   "execution_count": 31,
   "metadata": {},
   "outputs": [
    {
     "data": {
      "text/plain": [
       "3877"
      ]
     },
     "execution_count": 31,
     "metadata": {},
     "output_type": "execute_result"
    }
   ],
   "source": [
    "# чтобы не плодить кучу разных колонок для обозначения района, объединяем settlement, district, area\n",
    "df['location'] = df['settlement'].combine_first(df['district'])\n",
    "df['location'] = df['location'].combine_first(df['area'])\n",
    "df['location'].isna().sum()"
   ]
  },
  {
   "cell_type": "code",
   "execution_count": 6,
   "metadata": {},
   "outputs": [
    {
     "data": {
      "text/plain": [
       "source\n",
       "ЦИАН                   42171\n",
       "Домклик                36926\n",
       "Новострой-М            10909\n",
       "Яндекс.Недвижимость     8816\n",
       "Name: count, dtype: int64"
      ]
     },
     "execution_count": 6,
     "metadata": {},
     "output_type": "execute_result"
    }
   ],
   "source": [
    "df.source.value_counts()"
   ]
  },
  {
   "cell_type": "code",
   "execution_count": null,
   "metadata": {},
   "outputs": [],
   "source": []
  },
  {
   "cell_type": "code",
   "execution_count": 8,
   "metadata": {},
   "outputs": [
    {
     "data": {
      "text/plain": [
       "Series([], Name: period, dtype: float64)"
      ]
     },
     "execution_count": 8,
     "metadata": {},
     "output_type": "execute_result"
    }
   ],
   "source": [
    "df.period[~df.period.isna()]"
   ]
  },
  {
   "cell_type": "code",
   "execution_count": null,
   "metadata": {},
   "outputs": [
    {
     "data": {
      "text/plain": [
       "object_type\n",
       "Квартира    98822\n",
       "Name: count, dtype: int64"
      ]
     },
     "execution_count": 10,
     "metadata": {},
     "output_type": "execute_result"
    }
   ],
   "source": [
    "df.object_type.value_counts()\n",
    "\n",
    "# поле не имеет смысла"
   ]
  },
  {
   "cell_type": "code",
   "execution_count": 12,
   "metadata": {},
   "outputs": [
    {
     "data": {
      "text/plain": [
       "city\n",
       "Москва          73180\n",
       "Балашиха         2914\n",
       "Химки            2330\n",
       "Люберцы          1965\n",
       "Красногорск      1772\n",
       "Мытищи           1708\n",
       "Одинцово         1247\n",
       "Королёв           981\n",
       "Котельники        897\n",
       "Долгопрудный      761\n",
       "Видное            682\n",
       "Московский        653\n",
       "Реутов            581\n",
       "Щёлково           457\n",
       "Пушкино           419\n",
       "Лобня             407\n",
       "Ивантеевка        293\n",
       "Щербинка          233\n",
       "Дзержинский       181\n",
       "Лыткарино         166\n",
       "Подольск          101\n",
       "Name: count, dtype: int64"
      ]
     },
     "execution_count": 12,
     "metadata": {},
     "output_type": "execute_result"
    }
   ],
   "source": [
    "df.city.value_counts()"
   ]
  },
  {
   "cell_type": "code",
   "execution_count": 14,
   "metadata": {},
   "outputs": [
    {
     "data": {
      "text/plain": [
       "5           д. Мисайлово\n",
       "7          пос. ВНИИССОК\n",
       "29          рп. Дрожжино\n",
       "35       рп. Октябрьский\n",
       "45         с. Немчиновка\n",
       "              ...       \n",
       "98778        с. Молоково\n",
       "98784       рп. Дрожжино\n",
       "98805      с. Домодедово\n",
       "98814    рп. Октябрьский\n",
       "98815        рп. Заречье\n",
       "Name: settlement, Length: 6894, dtype: object"
      ]
     },
     "execution_count": 14,
     "metadata": {},
     "output_type": "execute_result"
    }
   ],
   "source": [
    "df.settlement[~df.settlement.isna()]"
   ]
  },
  {
   "cell_type": "code",
   "execution_count": 16,
   "metadata": {},
   "outputs": [
    {
     "data": {
      "text/plain": [
       "area\n",
       "Самолёт м-н            649\n",
       "Новые Химки м-н        612\n",
       "Старые Химки м-н       607\n",
       "Железнодорожный м-н    517\n",
       "Люберецкие Поля м-н    496\n",
       "                      ... \n",
       "Сокол пос.               1\n",
       "Котово м-н               1\n",
       "Северный м-н             1\n",
       "Клязьма м-н              1\n",
       "Кожухово пос.            1\n",
       "Name: count, Length: 269, dtype: int64"
      ]
     },
     "execution_count": 16,
     "metadata": {},
     "output_type": "execute_result"
    }
   ],
   "source": [
    "df.area.value_counts()"
   ]
  },
  {
   "cell_type": "code",
   "execution_count": 17,
   "metadata": {},
   "outputs": [
    {
     "data": {
      "text/plain": [
       "8.0"
      ]
     },
     "execution_count": 17,
     "metadata": {},
     "output_type": "execute_result"
    }
   ],
   "source": [
    "df.total_square.min()"
   ]
  },
  {
   "cell_type": "code",
   "execution_count": 16,
   "metadata": {},
   "outputs": [
    {
     "data": {
      "text/plain": [
       "<Axes: ylabel='Frequency'>"
      ]
     },
     "execution_count": 16,
     "metadata": {},
     "output_type": "execute_result"
    },
    {
     "data": {
      "image/png": "[encoded data removed]",
      "text/plain": [
       "<Figure size 640x480 with 1 Axes>"
      ]
     },
     "metadata": {},
     "output_type": "display_data"
    }
   ],
   "source": [
    "df.price.plot.hist(range=(1000000,100000000))"
   ]
  },
  {
   "cell_type": "code",
   "execution_count": 18,
   "metadata": {},
   "outputs": [
    {
     "data": {
      "text/plain": [
       "rooms\n",
       "2.0     34278\n",
       "1.0     26938\n",
       "3.0     24885\n",
       "4.0      6379\n",
       "NaN      3982\n",
       "5.0      1618\n",
       "6.0       649\n",
       "7.0        45\n",
       "8.0        23\n",
       "9.0        11\n",
       "10.0        8\n",
       "12.0        2\n",
       "11.0        1\n",
       "14.0        1\n",
       "15.0        1\n",
       "13.0        1\n",
       "Name: count, dtype: int64"
      ]
     },
     "execution_count": 18,
     "metadata": {},
     "output_type": "execute_result"
    }
   ],
   "source": [
    "df.rooms.value_counts(dropna=False)"
   ]
  },
  {
   "cell_type": "code",
   "execution_count": null,
   "metadata": {},
   "outputs": [],
   "source": []
  },
  {
   "cell_type": "markdown",
   "metadata": {},
   "source": [
    "### В первом приближении цена квартиры пропорциональна стоимости м2 на площадь\n"
   ]
  },
  {
   "cell_type": "code",
   "execution_count": 5,
   "metadata": {},
   "outputs": [
    {
     "data": {
      "text/plain": [
       "<matplotlib.collections.PathCollection at 0x17882e25d20>"
      ]
     },
     "execution_count": 5,
     "metadata": {},
     "output_type": "execute_result"
    },
    {
     "data": {
      "image/png": "[encoded data removed]",
      "text/plain": [
       "<Figure size 640x480 with 1 Axes>"
      ]
     },
     "metadata": {},
     "output_type": "display_data"
    }
   ],
   "source": [
    "from sklearn.neighbors import RadiusNeighborsRegressor\n",
    "import numpy as np\n",
    "\n",
    "model = RadiusNeighborsRegressor(algorithm = 'ball_tree', radius=0.5 / 6371, metric='haversine', n_jobs = 20)\n",
    "model.fit(df[['lat', 'lon']], df['m2_price'])\n",
    "\n",
    "indices = model.radius_neighbors(return_distance=False)\n",
    "res = []\n",
    "mean_val = df['m2_price'].mean()\n",
    "for i in range(len(indices)):\n",
    "    valid_inds = indices[i]\n",
    "    if len(valid_inds) > 0:\n",
    "        y_neigb = df['m2_price'][valid_inds]\n",
    "        res.append(y_neigb.mean())\n",
    "    else:\n",
    "        res.append(mean_val)\n",
    "\n",
    "df['mean_0.5'] = np.array(res)\n",
    "\n",
    "\n",
    "from matplotlib import pyplot as plt\n",
    "%matplotlib inline\n",
    "\n",
    "plt.scatter(df['price'] , df['mean_0.5']*df['total_square'])"
   ]
  },
  {
   "cell_type": "code",
   "execution_count": 6,
   "metadata": {},
   "outputs": [
    {
     "data": {
      "text/plain": [
       "<matplotlib.collections.PathCollection at 0x17882f2afb0>"
      ]
     },
     "execution_count": 6,
     "metadata": {},
     "output_type": "execute_result"
    },
    {
     "data": {
      "image/png": "[encoded data removed]",
      "text/plain": [
       "<Figure size 640x480 with 1 Axes>"
      ]
     },
     "metadata": {},
     "output_type": "display_data"
    }
   ],
   "source": [
    "plt.scatter(np.log(df['price']) , np.log(df['mean_0.5']) + np.log(df['total_square']))"
   ]
  },
  {
   "cell_type": "markdown",
   "metadata": {},
   "source": [
    "### В логарифмическом масштабе получается даже лучше "
   ]
  },
  {
   "cell_type": "code",
   "execution_count": null,
   "metadata": {},
   "outputs": [],
   "source": []
  },
  {
   "cell_type": "code",
   "execution_count": null,
   "metadata": {},
   "outputs": [],
   "source": []
  },
  {
   "cell_type": "code",
   "execution_count": null,
   "metadata": {},
   "outputs": [],
   "source": []
  },
  {
   "cell_type": "code",
   "execution_count": null,
   "metadata": {},
   "outputs": [],
   "source": []
  },
  {
   "cell_type": "code",
   "execution_count": null,
   "metadata": {},
   "outputs": [],
   "source": []
  },
  {
   "cell_type": "markdown",
   "metadata": {},
   "source": [
    "## ИТОГО:\n",
    "\n",
    "1. Прежде всего интересуют колонки:\n",
    "   - `lat`\n",
    "   - `lon`\n",
    "   - `rooms`\n",
    "   - `floor`\n",
    "   - `city`\n",
    "   - `district`\n",
    "   - `area`\n",
    "\n",
    "2. Колонки, которые не несут практически никакого смысла:\n",
    "   - `postcode`\n",
    "   - `period`\n",
    "   - `product_name`\n",
    "   - `object_type`\n",
    "\n",
    "3. Колонка `description`:\n",
    "   - Можно попробовать вытащить какие-то текстовые признаки.\n",
    "\n",
    "4. Колонка с ценой:\n",
    "   - Имеет степенное распределение, желательно ее логарифмировать.\n",
    "\n",
    "5. Хорошее первое приближение:\n",
    "   - Использовать среднюю цену за м² по окрестностям."
   ]
  }
 ],
 "metadata": {
  "kernelspec": {
   "display_name": "cynteka",
   "language": "python",
   "name": "python3"
  },
  "language_info": {
   "codemirror_mode": {
    "name": "ipython",
    "version": 3
   },
   "file_extension": ".py",
   "mimetype": "text/x-python",
   "name": "python",
   "nbconvert_exporter": "python",
   "pygments_lexer": "ipython3",
   "version": "3.10.15"
  }
 },
 "nbformat": 4,
 "nbformat_minor": 2
}
